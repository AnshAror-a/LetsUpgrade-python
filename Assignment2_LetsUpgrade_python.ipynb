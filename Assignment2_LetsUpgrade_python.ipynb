{
  "nbformat": 4,
  "nbformat_minor": 0,
  "metadata": {
    "colab": {
      "provenance": []
    },
    "kernelspec": {
      "name": "python3",
      "display_name": "Python 3"
    },
    "language_info": {
      "name": "python"
    }
  },
  "cells": [
    {
      "cell_type": "code",
      "source": [
        "def PrimeOrComposite(num):\n",
        "  # If given number is greater than 1\n",
        "  if num > 1:\n",
        "  # Iterate from 2 to n / 2\n",
        "    for i in range(2, int(num/2)+1):\n",
        "        # If num is divisible by any number between\n",
        "        # 2 and n / 2, it is not prime\n",
        "      if (num % i) == 0:\n",
        "        print(num, \"is not a prime number\")\n",
        "        break\n",
        "    else:\n",
        "      print(num, \"is a prime number\")\n",
        "  else:\n",
        "      print(num, \"is not a prime number\")\n",
        "\n",
        "PrimeOrComposite(17)\n",
        "    "
      ],
      "metadata": {
        "id": "XqUxelMFLyR0",
        "outputId": "9916cafc-878a-497b-85b3-291c84c93216",
        "colab": {
          "base_uri": "https://localhost:8080/"
        }
      },
      "execution_count": 16,
      "outputs": [
        {
          "output_type": "stream",
          "name": "stdout",
          "text": [
            "17 is a prime number\n"
          ]
        }
      ]
    },
    {
      "cell_type": "code",
      "source": [],
      "metadata": {
        "id": "IEsVke2iOgo6"
      },
      "execution_count": null,
      "outputs": []
    }
  ]
}